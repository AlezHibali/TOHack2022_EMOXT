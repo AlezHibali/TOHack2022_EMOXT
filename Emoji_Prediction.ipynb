{
  "cells": [
    {
      "cell_type": "code",
      "source": [
        "#pip install emoji"
      ],
      "metadata": {
        "id": "J9nl978-8P_Z"
      },
      "execution_count": 1,
      "outputs": []
    },
    {
      "cell_type": "code",
      "execution_count": 2,
      "metadata": {
        "id": "ySOij6Sxndlm"
      },
      "outputs": [],
      "source": [
        "import numpy as np\n",
        "import pandas as pd\n",
        "import emoji\n",
        "import itertools\n",
        "\n",
        "from tensorflow.keras.models import Sequential\n",
        "from tensorflow.keras.layers import Dense, Input, Dropout, SimpleRNN,LSTM, Activation\n",
        "from tensorflow.keras.utils import to_categorical\n",
        "from sklearn.metrics import confusion_matrix\n",
        "\n",
        "import matplotlib.pyplot as plt"
      ]
    },
    {
      "cell_type": "code",
      "execution_count": 3,
      "metadata": {
        "id": "R-mbE7sAndlp"
      },
      "outputs": [],
      "source": [
        "train = pd.read_csv('/content/train_emoji.csv',header=None)\n",
        "test = pd.read_csv('/content/test_emoji.csv',header=None)\n",
        "#train = pd.read_csv('/content/train2_emoji.csv',header=None,encoding='ISO-8859-1',on_bad_lines='skip')\n",
        "#test = pd.read_csv('/content/test2_emoji.csv',header=None,encoding='ISO-8859-1',on_bad_lines='skip')"
      ]
    },
    {
      "cell_type": "code",
      "execution_count": 4,
      "metadata": {
        "id": "cZRf6GRbndlq",
        "colab": {
          "base_uri": "https://localhost:8080/",
          "height": 206
        },
        "outputId": "be9d523e-fbfd-412c-a6f2-725467efe157"
      },
      "outputs": [
        {
          "output_type": "execute_result",
          "data": {
            "text/plain": [
              "                                 0  1   2     3\n",
              "0           never talk to me again  3 NaN   NaN\n",
              "1  I am proud of your achievements  2 NaN   NaN\n",
              "2   It is the worst day in my life  3 NaN   NaN\n",
              "3                 Miss you so much  0 NaN   [0]\n",
              "4                     food is life  4 NaN   NaN"
            ],
            "text/html": [
              "\n",
              "  <div id=\"df-7adc19a2-9ad0-4d6a-93a4-c03af76547e6\">\n",
              "    <div class=\"colab-df-container\">\n",
              "      <div>\n",
              "<style scoped>\n",
              "    .dataframe tbody tr th:only-of-type {\n",
              "        vertical-align: middle;\n",
              "    }\n",
              "\n",
              "    .dataframe tbody tr th {\n",
              "        vertical-align: top;\n",
              "    }\n",
              "\n",
              "    .dataframe thead th {\n",
              "        text-align: right;\n",
              "    }\n",
              "</style>\n",
              "<table border=\"1\" class=\"dataframe\">\n",
              "  <thead>\n",
              "    <tr style=\"text-align: right;\">\n",
              "      <th></th>\n",
              "      <th>0</th>\n",
              "      <th>1</th>\n",
              "      <th>2</th>\n",
              "      <th>3</th>\n",
              "    </tr>\n",
              "  </thead>\n",
              "  <tbody>\n",
              "    <tr>\n",
              "      <th>0</th>\n",
              "      <td>never talk to me again</td>\n",
              "      <td>3</td>\n",
              "      <td>NaN</td>\n",
              "      <td>NaN</td>\n",
              "    </tr>\n",
              "    <tr>\n",
              "      <th>1</th>\n",
              "      <td>I am proud of your achievements</td>\n",
              "      <td>2</td>\n",
              "      <td>NaN</td>\n",
              "      <td>NaN</td>\n",
              "    </tr>\n",
              "    <tr>\n",
              "      <th>2</th>\n",
              "      <td>It is the worst day in my life</td>\n",
              "      <td>3</td>\n",
              "      <td>NaN</td>\n",
              "      <td>NaN</td>\n",
              "    </tr>\n",
              "    <tr>\n",
              "      <th>3</th>\n",
              "      <td>Miss you so much</td>\n",
              "      <td>0</td>\n",
              "      <td>NaN</td>\n",
              "      <td>[0]</td>\n",
              "    </tr>\n",
              "    <tr>\n",
              "      <th>4</th>\n",
              "      <td>food is life</td>\n",
              "      <td>4</td>\n",
              "      <td>NaN</td>\n",
              "      <td>NaN</td>\n",
              "    </tr>\n",
              "  </tbody>\n",
              "</table>\n",
              "</div>\n",
              "      <button class=\"colab-df-convert\" onclick=\"convertToInteractive('df-7adc19a2-9ad0-4d6a-93a4-c03af76547e6')\"\n",
              "              title=\"Convert this dataframe to an interactive table.\"\n",
              "              style=\"display:none;\">\n",
              "        \n",
              "  <svg xmlns=\"http://www.w3.org/2000/svg\" height=\"24px\"viewBox=\"0 0 24 24\"\n",
              "       width=\"24px\">\n",
              "    <path d=\"M0 0h24v24H0V0z\" fill=\"none\"/>\n",
              "    <path d=\"M18.56 5.44l.94 2.06.94-2.06 2.06-.94-2.06-.94-.94-2.06-.94 2.06-2.06.94zm-11 1L8.5 8.5l.94-2.06 2.06-.94-2.06-.94L8.5 2.5l-.94 2.06-2.06.94zm10 10l.94 2.06.94-2.06 2.06-.94-2.06-.94-.94-2.06-.94 2.06-2.06.94z\"/><path d=\"M17.41 7.96l-1.37-1.37c-.4-.4-.92-.59-1.43-.59-.52 0-1.04.2-1.43.59L10.3 9.45l-7.72 7.72c-.78.78-.78 2.05 0 2.83L4 21.41c.39.39.9.59 1.41.59.51 0 1.02-.2 1.41-.59l7.78-7.78 2.81-2.81c.8-.78.8-2.07 0-2.86zM5.41 20L4 18.59l7.72-7.72 1.47 1.35L5.41 20z\"/>\n",
              "  </svg>\n",
              "      </button>\n",
              "      \n",
              "  <style>\n",
              "    .colab-df-container {\n",
              "      display:flex;\n",
              "      flex-wrap:wrap;\n",
              "      gap: 12px;\n",
              "    }\n",
              "\n",
              "    .colab-df-convert {\n",
              "      background-color: #E8F0FE;\n",
              "      border: none;\n",
              "      border-radius: 50%;\n",
              "      cursor: pointer;\n",
              "      display: none;\n",
              "      fill: #1967D2;\n",
              "      height: 32px;\n",
              "      padding: 0 0 0 0;\n",
              "      width: 32px;\n",
              "    }\n",
              "\n",
              "    .colab-df-convert:hover {\n",
              "      background-color: #E2EBFA;\n",
              "      box-shadow: 0px 1px 2px rgba(60, 64, 67, 0.3), 0px 1px 3px 1px rgba(60, 64, 67, 0.15);\n",
              "      fill: #174EA6;\n",
              "    }\n",
              "\n",
              "    [theme=dark] .colab-df-convert {\n",
              "      background-color: #3B4455;\n",
              "      fill: #D2E3FC;\n",
              "    }\n",
              "\n",
              "    [theme=dark] .colab-df-convert:hover {\n",
              "      background-color: #434B5C;\n",
              "      box-shadow: 0px 1px 3px 1px rgba(0, 0, 0, 0.15);\n",
              "      filter: drop-shadow(0px 1px 2px rgba(0, 0, 0, 0.3));\n",
              "      fill: #FFFFFF;\n",
              "    }\n",
              "  </style>\n",
              "\n",
              "      <script>\n",
              "        const buttonEl =\n",
              "          document.querySelector('#df-7adc19a2-9ad0-4d6a-93a4-c03af76547e6 button.colab-df-convert');\n",
              "        buttonEl.style.display =\n",
              "          google.colab.kernel.accessAllowed ? 'block' : 'none';\n",
              "\n",
              "        async function convertToInteractive(key) {\n",
              "          const element = document.querySelector('#df-7adc19a2-9ad0-4d6a-93a4-c03af76547e6');\n",
              "          const dataTable =\n",
              "            await google.colab.kernel.invokeFunction('convertToInteractive',\n",
              "                                                     [key], {});\n",
              "          if (!dataTable) return;\n",
              "\n",
              "          const docLinkHtml = 'Like what you see? Visit the ' +\n",
              "            '<a target=\"_blank\" href=https://colab.research.google.com/notebooks/data_table.ipynb>data table notebook</a>'\n",
              "            + ' to learn more about interactive tables.';\n",
              "          element.innerHTML = '';\n",
              "          dataTable['output_type'] = 'display_data';\n",
              "          await google.colab.output.renderOutput(dataTable, element);\n",
              "          const docLink = document.createElement('div');\n",
              "          docLink.innerHTML = docLinkHtml;\n",
              "          element.appendChild(docLink);\n",
              "        }\n",
              "      </script>\n",
              "    </div>\n",
              "  </div>\n",
              "  "
            ]
          },
          "metadata": {},
          "execution_count": 4
        }
      ],
      "source": [
        "#train.head()"
      ]
    },
    {
      "cell_type": "code",
      "execution_count": 5,
      "metadata": {
        "id": "_IQfSNHJndlr",
        "colab": {
          "base_uri": "https://localhost:8080/",
          "height": 206
        },
        "outputId": "8594cc60-b71d-4319-a158-2d952cbd551c"
      },
      "outputs": [
        {
          "output_type": "execute_result",
          "data": {
            "text/plain": [
              "                            0  1\n",
              "0             I want to eat\\t  4\n",
              "1         he did not answer\\t  3\n",
              "2            he got a raise\\t  2\n",
              "3      she got me a present\\t  0\n",
              "4  ha ha ha it was so funny\\t  2"
            ],
            "text/html": [
              "\n",
              "  <div id=\"df-71bc838d-8c4b-40e2-8a12-753b84376610\">\n",
              "    <div class=\"colab-df-container\">\n",
              "      <div>\n",
              "<style scoped>\n",
              "    .dataframe tbody tr th:only-of-type {\n",
              "        vertical-align: middle;\n",
              "    }\n",
              "\n",
              "    .dataframe tbody tr th {\n",
              "        vertical-align: top;\n",
              "    }\n",
              "\n",
              "    .dataframe thead th {\n",
              "        text-align: right;\n",
              "    }\n",
              "</style>\n",
              "<table border=\"1\" class=\"dataframe\">\n",
              "  <thead>\n",
              "    <tr style=\"text-align: right;\">\n",
              "      <th></th>\n",
              "      <th>0</th>\n",
              "      <th>1</th>\n",
              "    </tr>\n",
              "  </thead>\n",
              "  <tbody>\n",
              "    <tr>\n",
              "      <th>0</th>\n",
              "      <td>I want to eat\\t</td>\n",
              "      <td>4</td>\n",
              "    </tr>\n",
              "    <tr>\n",
              "      <th>1</th>\n",
              "      <td>he did not answer\\t</td>\n",
              "      <td>3</td>\n",
              "    </tr>\n",
              "    <tr>\n",
              "      <th>2</th>\n",
              "      <td>he got a raise\\t</td>\n",
              "      <td>2</td>\n",
              "    </tr>\n",
              "    <tr>\n",
              "      <th>3</th>\n",
              "      <td>she got me a present\\t</td>\n",
              "      <td>0</td>\n",
              "    </tr>\n",
              "    <tr>\n",
              "      <th>4</th>\n",
              "      <td>ha ha ha it was so funny\\t</td>\n",
              "      <td>2</td>\n",
              "    </tr>\n",
              "  </tbody>\n",
              "</table>\n",
              "</div>\n",
              "      <button class=\"colab-df-convert\" onclick=\"convertToInteractive('df-71bc838d-8c4b-40e2-8a12-753b84376610')\"\n",
              "              title=\"Convert this dataframe to an interactive table.\"\n",
              "              style=\"display:none;\">\n",
              "        \n",
              "  <svg xmlns=\"http://www.w3.org/2000/svg\" height=\"24px\"viewBox=\"0 0 24 24\"\n",
              "       width=\"24px\">\n",
              "    <path d=\"M0 0h24v24H0V0z\" fill=\"none\"/>\n",
              "    <path d=\"M18.56 5.44l.94 2.06.94-2.06 2.06-.94-2.06-.94-.94-2.06-.94 2.06-2.06.94zm-11 1L8.5 8.5l.94-2.06 2.06-.94-2.06-.94L8.5 2.5l-.94 2.06-2.06.94zm10 10l.94 2.06.94-2.06 2.06-.94-2.06-.94-.94-2.06-.94 2.06-2.06.94z\"/><path d=\"M17.41 7.96l-1.37-1.37c-.4-.4-.92-.59-1.43-.59-.52 0-1.04.2-1.43.59L10.3 9.45l-7.72 7.72c-.78.78-.78 2.05 0 2.83L4 21.41c.39.39.9.59 1.41.59.51 0 1.02-.2 1.41-.59l7.78-7.78 2.81-2.81c.8-.78.8-2.07 0-2.86zM5.41 20L4 18.59l7.72-7.72 1.47 1.35L5.41 20z\"/>\n",
              "  </svg>\n",
              "      </button>\n",
              "      \n",
              "  <style>\n",
              "    .colab-df-container {\n",
              "      display:flex;\n",
              "      flex-wrap:wrap;\n",
              "      gap: 12px;\n",
              "    }\n",
              "\n",
              "    .colab-df-convert {\n",
              "      background-color: #E8F0FE;\n",
              "      border: none;\n",
              "      border-radius: 50%;\n",
              "      cursor: pointer;\n",
              "      display: none;\n",
              "      fill: #1967D2;\n",
              "      height: 32px;\n",
              "      padding: 0 0 0 0;\n",
              "      width: 32px;\n",
              "    }\n",
              "\n",
              "    .colab-df-convert:hover {\n",
              "      background-color: #E2EBFA;\n",
              "      box-shadow: 0px 1px 2px rgba(60, 64, 67, 0.3), 0px 1px 3px 1px rgba(60, 64, 67, 0.15);\n",
              "      fill: #174EA6;\n",
              "    }\n",
              "\n",
              "    [theme=dark] .colab-df-convert {\n",
              "      background-color: #3B4455;\n",
              "      fill: #D2E3FC;\n",
              "    }\n",
              "\n",
              "    [theme=dark] .colab-df-convert:hover {\n",
              "      background-color: #434B5C;\n",
              "      box-shadow: 0px 1px 3px 1px rgba(0, 0, 0, 0.15);\n",
              "      filter: drop-shadow(0px 1px 2px rgba(0, 0, 0, 0.3));\n",
              "      fill: #FFFFFF;\n",
              "    }\n",
              "  </style>\n",
              "\n",
              "      <script>\n",
              "        const buttonEl =\n",
              "          document.querySelector('#df-71bc838d-8c4b-40e2-8a12-753b84376610 button.colab-df-convert');\n",
              "        buttonEl.style.display =\n",
              "          google.colab.kernel.accessAllowed ? 'block' : 'none';\n",
              "\n",
              "        async function convertToInteractive(key) {\n",
              "          const element = document.querySelector('#df-71bc838d-8c4b-40e2-8a12-753b84376610');\n",
              "          const dataTable =\n",
              "            await google.colab.kernel.invokeFunction('convertToInteractive',\n",
              "                                                     [key], {});\n",
              "          if (!dataTable) return;\n",
              "\n",
              "          const docLinkHtml = 'Like what you see? Visit the ' +\n",
              "            '<a target=\"_blank\" href=https://colab.research.google.com/notebooks/data_table.ipynb>data table notebook</a>'\n",
              "            + ' to learn more about interactive tables.';\n",
              "          element.innerHTML = '';\n",
              "          dataTable['output_type'] = 'display_data';\n",
              "          await google.colab.output.renderOutput(dataTable, element);\n",
              "          const docLink = document.createElement('div');\n",
              "          docLink.innerHTML = docLinkHtml;\n",
              "          element.appendChild(docLink);\n",
              "        }\n",
              "      </script>\n",
              "    </div>\n",
              "  </div>\n",
              "  "
            ]
          },
          "metadata": {},
          "execution_count": 5
        }
      ],
      "source": [
        "#test.head()"
      ]
    },
    {
      "cell_type": "code",
      "execution_count": 6,
      "metadata": {
        "id": "iwytZGcsndlr"
      },
      "outputs": [],
      "source": [
        "emoji_dict = { 0 : \":heart:\", 1 : \":baseball:\", 2 : \":smile:\", 3 : \":disappointed:\", 4 : \":fork_and_knife:\", 5 : \":rage:\"}"
      ]
    },
    {
      "cell_type": "code",
      "execution_count": 7,
      "metadata": {
        "id": "oK0C1r7Rndls",
        "colab": {
          "base_uri": "https://localhost:8080/"
        },
        "outputId": "806d81ea-d895-4e93-ac14-7fb16440075f"
      },
      "outputs": [
        {
          "output_type": "stream",
          "name": "stdout",
          "text": [
            "0 ❤️\n",
            "1 ⚾\n",
            "2 😄\n",
            "3 😞\n",
            "4 🍴\n",
            "5 😡\n"
          ]
        },
        {
          "output_type": "stream",
          "name": "stderr",
          "text": [
            "/usr/local/lib/python3.7/dist-packages/ipykernel_launcher.py:3: DeprecationWarning: The parameter 'use_aliases' in emoji.emojize() is deprecated and will be removed in version 2.0.0. Use language='alias' instead.\n",
            "To hide this warning, pin/downgrade the package to 'emoji~=1.6.3'\n",
            "  This is separate from the ipykernel package so we can avoid doing imports until\n"
          ]
        }
      ],
      "source": [
        "#for i in emoji_dict.keys():\n",
        "  #print (i,end=\" \")\n",
        "  #print (emoji.emojize(emoji_dict[i], use_aliases=True))"
      ]
    },
    {
      "cell_type": "code",
      "source": [
        "#from sklearn.model_selection import train_test_split\n",
        "#seed = 42\n",
        "\n",
        "#X_train, X_test, Y_train, Y_test = train_test_split(train[0],train[1],test_size=0.33,random_state=seed)\n",
        "#print(X_train.shape,Y_train.shape,X_test.shape,Y_test.shape)"
      ],
      "metadata": {
        "id": "OYgeLTQaYhWq"
      },
      "execution_count": 8,
      "outputs": []
    },
    {
      "cell_type": "code",
      "execution_count": 9,
      "metadata": {
        "id": "AGlKJASqndls",
        "colab": {
          "base_uri": "https://localhost:8080/"
        },
        "outputId": "6590fd52-0901-473b-b405-b2683901d067"
      },
      "outputs": [
        {
          "output_type": "stream",
          "name": "stdout",
          "text": [
            "(141,) (141,) (56,) (56,)\n"
          ]
        }
      ],
      "source": [
        "# Creating training and testing data\n",
        "X_train = train[0]\n",
        "Y_train = train[1]\n",
        "\"\"\"\n",
        "Y_train = np.zeros((X_train.shape[0],1))\n",
        "for i in range((X_train.shape[0])):\n",
        "  for j in range(7):\n",
        "    if (train[j+1][i]==1):\n",
        "      Y_train[i]=j\n",
        "\"\"\"\n",
        "X_test = test[0]\n",
        "Y_test = test[1]\n",
        "\"\"\"\n",
        "Y_test = np.zeros((X_test.shape[0],1))\n",
        "for i in range((X_test.shape[0])):\n",
        "  for j in range(7):\n",
        "    if (test[j+1][i]==1):\n",
        "      Y_test[i]=j\n",
        "\"\"\"\n",
        "#print (X_train.shape, Y_train.shape, X_test.shape, Y_test.shape)"
      ]
    },
    {
      "cell_type": "code",
      "execution_count": 10,
      "metadata": {
        "colab": {
          "base_uri": "https://localhost:8080/"
        },
        "id": "pAjWbUhSndlt",
        "outputId": "31b55fdf-f687-452e-c786-1ecfeaa9416b"
      },
      "outputs": [
        {
          "output_type": "stream",
          "name": "stderr",
          "text": [
            "/usr/local/lib/python3.7/dist-packages/ipykernel_launcher.py:2: SettingWithCopyWarning: \n",
            "A value is trying to be set on a copy of a slice from a DataFrame\n",
            "\n",
            "See the caveats in the documentation: https://pandas.pydata.org/pandas-docs/stable/user_guide/indexing.html#returning-a-view-versus-a-copy\n",
            "  \n",
            "/usr/local/lib/python3.7/dist-packages/ipykernel_launcher.py:5: SettingWithCopyWarning: \n",
            "A value is trying to be set on a copy of a slice from a DataFrame\n",
            "\n",
            "See the caveats in the documentation: https://pandas.pydata.org/pandas-docs/stable/user_guide/indexing.html#returning-a-view-versus-a-copy\n",
            "  \"\"\"\n"
          ]
        }
      ],
      "source": [
        "for i in range(X_train.shape[0]):\n",
        "  X_train[i] = X_train[i].split()\n",
        "\n",
        "for j in range(X_test.shape[0]):\n",
        "  X_test[j] = X_test[j].split()\n",
        "    \n",
        "Y_train = to_categorical(Y_train)"
      ]
    },
    {
      "cell_type": "code",
      "execution_count": 11,
      "metadata": {
        "id": "UYiwDtn9ndlv"
      },
      "outputs": [],
      "source": [
        "embeddings_index = {}\n",
        "f = open('/content/glove.6B.50d.txt', encoding=\"utf-8\")\n",
        "for line in f:\n",
        "  values = line.split()\n",
        "  word = values[0]\n",
        "  coefs = np.asarray(values[1:], dtype='float32')\n",
        "  embeddings_index[word] = coefs\n",
        "f.close()"
      ]
    },
    {
      "cell_type": "code",
      "source": [
        "# stopwords\n",
        "stopwords = []\n",
        "stop = open('/content/stopwords.txt', encoding=\"utf-8\")\n",
        "for line in stop:\n",
        "  stopwords.append(line.strip())\n",
        "stop.close()"
      ],
      "metadata": {
        "id": "7wmM7cD2JG2o"
      },
      "execution_count": 12,
      "outputs": []
    },
    {
      "cell_type": "code",
      "source": [
        "#print(stopwords)"
      ],
      "metadata": {
        "id": "-81mDS3OJk2o"
      },
      "execution_count": 13,
      "outputs": []
    },
    {
      "cell_type": "code",
      "execution_count": 14,
      "metadata": {
        "id": "__MnbF7Bndlv"
      },
      "outputs": [],
      "source": [
        "#from scipy import spatial\n",
        "# Checking cosine similarity of words happy and sad\n",
        "#spatial.distance.cosine(embeddings_index[\"happy\"], embeddings_index[\"sad\"])"
      ]
    },
    {
      "cell_type": "code",
      "source": [
        "np.unique(np.array([len(ix) for ix in X_train]) , return_counts=True)"
      ],
      "metadata": {
        "colab": {
          "base_uri": "https://localhost:8080/"
        },
        "id": "KXyoyj-Ff-bb",
        "outputId": "dbcef563-3f46-4566-bf01-0d19bbd4df9c"
      },
      "execution_count": 15,
      "outputs": [
        {
          "output_type": "execute_result",
          "data": {
            "text/plain": [
              "(array([ 1,  2,  3,  4,  5,  6,  7,  8,  9, 10]),\n",
              " array([ 4,  6, 28, 37, 22, 21, 11,  6,  1,  5]))"
            ]
          },
          "metadata": {},
          "execution_count": 15
        }
      ]
    },
    {
      "cell_type": "code",
      "execution_count": 16,
      "metadata": {
        "id": "kExtB3eundlw"
      },
      "outputs": [],
      "source": [
        "# Filling the embedding matrix\n",
        "embedding_matrix_train = np.zeros((X_train.shape[0], 10, 50))\n",
        "embedding_matrix_test = np.zeros((X_test.shape[0], 10, 50))\n",
        "\n",
        "for i in range(X_train.shape[0]):\n",
        "  for j in range(len(X_train[i])):\n",
        "    if not (X_train[i][j].lower() in stopwords):\n",
        "      if X_train[i][j].lower() in embeddings_index:\n",
        "        embedding_matrix_train[i][j] = embeddings_index[X_train[i][j].lower()]\n",
        "        \n",
        "for i in range(X_test.shape[0]):\n",
        "  for j in range(len(X_test[i])):\n",
        "    if not (X_test[i][j].lower() in stopwords):\n",
        "      if X_test[i][j].lower() in embeddings_index:\n",
        "        embedding_matrix_test[i][j] = embeddings_index[X_test[i][j].lower()] "
      ]
    },
    {
      "cell_type": "code",
      "source": [
        "embedding_out = np.zeros((1, 10, 50))\n",
        "inputData = 'I was having my dinner'\n",
        "input = inputData.split()\n",
        "for i in range(len(input)):\n",
        "  if not (input[i].lower() in stopwords):\n",
        "    embedding_out[0][i] = embeddings_index[input[i].lower()]\n",
        "    #print(input[i].lower())"
      ],
      "metadata": {
        "id": "BirN6ZCN7Wu1"
      },
      "execution_count": 17,
      "outputs": []
    },
    {
      "cell_type": "code",
      "execution_count": 18,
      "metadata": {
        "id": "9yUI1To_ndlx"
      },
      "outputs": [],
      "source": [
        "#print (embedding_matrix_train.shape, embedding_matrix_test.shape)"
      ]
    },
    {
      "cell_type": "code",
      "execution_count": 19,
      "metadata": {
        "id": "E0c1hR1Lndlx",
        "colab": {
          "base_uri": "https://localhost:8080/"
        },
        "outputId": "369f0fa1-935d-4383-e6e8-22b6a2ab0d1b"
      },
      "outputs": [
        {
          "output_type": "stream",
          "name": "stdout",
          "text": [
            "Model: \"sequential\"\n",
            "_________________________________________________________________\n",
            " Layer (type)                Output Shape              Param #   \n",
            "=================================================================\n",
            " lstm (LSTM)                 (None, 10, 128)           91648     \n",
            "                                                                 \n",
            " dropout (Dropout)           (None, 10, 128)           0         \n",
            "                                                                 \n",
            " lstm_1 (LSTM)               (None, 128)               131584    \n",
            "                                                                 \n",
            " dropout_1 (Dropout)         (None, 128)               0         \n",
            "                                                                 \n",
            " dense (Dense)               (None, 6)                 774       \n",
            "                                                                 \n",
            " activation (Activation)     (None, 6)                 0         \n",
            "                                                                 \n",
            "=================================================================\n",
            "Total params: 224,006\n",
            "Trainable params: 224,006\n",
            "Non-trainable params: 0\n",
            "_________________________________________________________________\n"
          ]
        }
      ],
      "source": [
        "# A simple LSTM network\n",
        "model = Sequential()\n",
        "model.add(LSTM(128, input_shape=(10,50), return_sequences=True))\n",
        "model.add(Dropout(0.5))\n",
        "model.add(LSTM(128, return_sequences=False))\n",
        "model.add(Dropout(0.5))\n",
        "model.add(Dense(6))\n",
        "model.add(Activation('softmax'))\n",
        "\n",
        "#model.summary()"
      ]
    },
    {
      "cell_type": "code",
      "execution_count": 20,
      "metadata": {
        "id": "T4m0toR0ndlx"
      },
      "outputs": [],
      "source": [
        "# Setting Loss ,Optimiser for model\n",
        "model.compile(loss='categorical_crossentropy', optimizer='adam', metrics=['accuracy'])"
      ]
    },
    {
      "cell_type": "code",
      "execution_count": 21,
      "metadata": {
        "scrolled": true,
        "colab": {
          "base_uri": "https://localhost:8080/"
        },
        "id": "xpZOF2NIndlx",
        "outputId": "b56ac522-df07-4c37-cc23-ecadb4b5d466"
      },
      "outputs": [
        {
          "output_type": "stream",
          "name": "stdout",
          "text": [
            "Epoch 1/50\n",
            "4/4 [==============================] - 4s 36ms/step - loss: 1.7708 - accuracy: 0.2553\n",
            "Epoch 2/50\n",
            "4/4 [==============================] - 0s 33ms/step - loss: 1.6772 - accuracy: 0.4610\n",
            "Epoch 3/50\n",
            "4/4 [==============================] - 0s 32ms/step - loss: 1.5745 - accuracy: 0.4823\n",
            "Epoch 4/50\n",
            "4/4 [==============================] - 0s 37ms/step - loss: 1.4655 - accuracy: 0.4965\n",
            "Epoch 5/50\n",
            "4/4 [==============================] - 0s 35ms/step - loss: 1.2640 - accuracy: 0.6028\n",
            "Epoch 6/50\n",
            "4/4 [==============================] - 0s 33ms/step - loss: 1.0476 - accuracy: 0.6312\n",
            "Epoch 7/50\n",
            "4/4 [==============================] - 0s 38ms/step - loss: 0.8953 - accuracy: 0.6667\n",
            "Epoch 8/50\n",
            "4/4 [==============================] - 0s 34ms/step - loss: 0.8464 - accuracy: 0.7092\n",
            "Epoch 9/50\n",
            "4/4 [==============================] - 0s 33ms/step - loss: 0.7082 - accuracy: 0.7376\n",
            "Epoch 10/50\n",
            "4/4 [==============================] - 0s 35ms/step - loss: 0.7134 - accuracy: 0.7163\n",
            "Epoch 11/50\n",
            "4/4 [==============================] - 0s 35ms/step - loss: 0.5536 - accuracy: 0.7801\n",
            "Epoch 12/50\n",
            "4/4 [==============================] - 0s 31ms/step - loss: 0.5159 - accuracy: 0.7872\n",
            "Epoch 13/50\n",
            "4/4 [==============================] - 0s 33ms/step - loss: 0.4518 - accuracy: 0.8156\n",
            "Epoch 14/50\n",
            "4/4 [==============================] - 0s 32ms/step - loss: 0.3678 - accuracy: 0.8582\n",
            "Epoch 15/50\n",
            "4/4 [==============================] - 0s 31ms/step - loss: 0.3089 - accuracy: 0.8723\n",
            "Epoch 16/50\n",
            "4/4 [==============================] - 0s 31ms/step - loss: 0.2629 - accuracy: 0.9078\n",
            "Epoch 17/50\n",
            "4/4 [==============================] - 0s 31ms/step - loss: 0.2773 - accuracy: 0.9149\n",
            "Epoch 18/50\n",
            "4/4 [==============================] - 0s 34ms/step - loss: 0.2108 - accuracy: 0.9362\n",
            "Epoch 19/50\n",
            "4/4 [==============================] - 0s 34ms/step - loss: 0.1425 - accuracy: 0.9574\n",
            "Epoch 20/50\n",
            "4/4 [==============================] - 0s 33ms/step - loss: 0.1416 - accuracy: 0.9504\n",
            "Epoch 21/50\n",
            "4/4 [==============================] - 0s 33ms/step - loss: 0.1083 - accuracy: 0.9574\n",
            "Epoch 22/50\n",
            "4/4 [==============================] - 0s 34ms/step - loss: 0.1190 - accuracy: 0.9433\n",
            "Epoch 23/50\n",
            "4/4 [==============================] - 0s 33ms/step - loss: 0.1156 - accuracy: 0.9645\n",
            "Epoch 24/50\n",
            "4/4 [==============================] - 0s 35ms/step - loss: 0.0793 - accuracy: 0.9787\n",
            "Epoch 25/50\n",
            "4/4 [==============================] - 0s 34ms/step - loss: 0.1080 - accuracy: 0.9574\n",
            "Epoch 26/50\n",
            "4/4 [==============================] - 0s 32ms/step - loss: 0.1276 - accuracy: 0.9716\n",
            "Epoch 27/50\n",
            "4/4 [==============================] - 0s 33ms/step - loss: 0.0580 - accuracy: 0.9929\n",
            "Epoch 28/50\n",
            "4/4 [==============================] - 0s 32ms/step - loss: 0.1328 - accuracy: 0.9504\n",
            "Epoch 29/50\n",
            "4/4 [==============================] - 0s 33ms/step - loss: 0.0926 - accuracy: 0.9645\n",
            "Epoch 30/50\n",
            "4/4 [==============================] - 0s 35ms/step - loss: 0.0486 - accuracy: 0.9858\n",
            "Epoch 31/50\n",
            "4/4 [==============================] - 0s 33ms/step - loss: 0.0688 - accuracy: 0.9787\n",
            "Epoch 32/50\n",
            "4/4 [==============================] - 0s 33ms/step - loss: 0.0529 - accuracy: 0.9858\n",
            "Epoch 33/50\n",
            "4/4 [==============================] - 0s 40ms/step - loss: 0.0661 - accuracy: 0.9787\n",
            "Epoch 34/50\n",
            "4/4 [==============================] - 0s 32ms/step - loss: 0.0604 - accuracy: 0.9858\n",
            "Epoch 35/50\n",
            "4/4 [==============================] - 0s 31ms/step - loss: 0.0480 - accuracy: 0.9787\n",
            "Epoch 36/50\n",
            "4/4 [==============================] - 0s 32ms/step - loss: 0.0802 - accuracy: 0.9787\n",
            "Epoch 37/50\n",
            "4/4 [==============================] - 0s 31ms/step - loss: 0.0552 - accuracy: 0.9858\n",
            "Epoch 38/50\n",
            "4/4 [==============================] - 0s 32ms/step - loss: 0.0381 - accuracy: 0.9929\n",
            "Epoch 39/50\n",
            "4/4 [==============================] - 0s 32ms/step - loss: 0.0529 - accuracy: 0.9787\n",
            "Epoch 40/50\n",
            "4/4 [==============================] - 0s 35ms/step - loss: 0.0658 - accuracy: 0.9858\n",
            "Epoch 41/50\n",
            "4/4 [==============================] - 0s 32ms/step - loss: 0.0448 - accuracy: 0.9858\n",
            "Epoch 42/50\n",
            "4/4 [==============================] - 0s 31ms/step - loss: 0.0425 - accuracy: 0.9858\n",
            "Epoch 43/50\n",
            "4/4 [==============================] - 0s 31ms/step - loss: 0.0260 - accuracy: 0.9929\n",
            "Epoch 44/50\n",
            "4/4 [==============================] - 0s 33ms/step - loss: 0.0366 - accuracy: 0.9858\n",
            "Epoch 45/50\n",
            "4/4 [==============================] - 0s 33ms/step - loss: 0.0333 - accuracy: 0.9929\n",
            "Epoch 46/50\n",
            "4/4 [==============================] - 0s 36ms/step - loss: 0.0355 - accuracy: 0.9858\n",
            "Epoch 47/50\n",
            "4/4 [==============================] - 0s 36ms/step - loss: 0.0320 - accuracy: 0.9858\n",
            "Epoch 48/50\n",
            "4/4 [==============================] - 0s 35ms/step - loss: 0.0420 - accuracy: 0.9787\n",
            "Epoch 49/50\n",
            "4/4 [==============================] - 0s 38ms/step - loss: 0.0305 - accuracy: 0.9929\n",
            "Epoch 50/50\n",
            "4/4 [==============================] - 0s 33ms/step - loss: 0.0523 - accuracy: 0.9787\n"
          ]
        }
      ],
      "source": [
        "# Training model\n",
        "hist = model.fit(embedding_matrix_train,\n",
        "                 Y_train,\n",
        "                 epochs = 50, \n",
        "                 batch_size = 40,\n",
        "                 shuffle=True)"
      ]
    },
    {
      "cell_type": "code",
      "execution_count": 22,
      "metadata": {
        "id": "MYXhn2A0ndly"
      },
      "outputs": [],
      "source": [
        "# Prediction of trained model\n",
        "pred = np.argmax(model.predict(embedding_matrix_test), axis=-1)\n",
        "# pred = (model.predict(embedding_matrix_test) > 0.5).astype(\"int32\")"
      ]
    },
    {
      "cell_type": "code",
      "source": [
        "predOut = np.argmax(model.predict(embedding_out), axis=-1)\n",
        "\n",
        "#******************** OUTPUT *****************************#\n",
        "print (inputData,emoji.emojize(emoji_dict[predOut[0]], use_aliases=True))"
      ],
      "metadata": {
        "id": "1v_ytn3n_KGX",
        "colab": {
          "base_uri": "https://localhost:8080/"
        },
        "outputId": "d1972f85-b8c0-4f7f-e596-c5e9f10c6963"
      },
      "execution_count": 23,
      "outputs": [
        {
          "output_type": "stream",
          "name": "stdout",
          "text": [
            "I was having my dinner 🍴\n"
          ]
        },
        {
          "output_type": "stream",
          "name": "stderr",
          "text": [
            "/usr/local/lib/python3.7/dist-packages/ipykernel_launcher.py:2: DeprecationWarning: The parameter 'use_aliases' in emoji.emojize() is deprecated and will be removed in version 2.0.0. Use language='alias' instead.\n",
            "To hide this warning, pin/downgrade the package to 'emoji~=1.6.3'\n",
            "  \n"
          ]
        }
      ]
    },
    {
      "cell_type": "markdown",
      "metadata": {
        "id": "sb-YIg8dndlz"
      },
      "source": [
        "### ACCURACY"
      ]
    },
    {
      "cell_type": "code",
      "execution_count": 24,
      "metadata": {
        "id": "ZG8uK-xAndl0",
        "colab": {
          "base_uri": "https://localhost:8080/"
        },
        "outputId": "46be86b3-3e40-4c1d-87c1-5ec315b89aad"
      },
      "outputs": [
        {
          "output_type": "execute_result",
          "data": {
            "text/plain": [
              "0.7321428571428571"
            ]
          },
          "metadata": {},
          "execution_count": 24
        }
      ],
      "source": [
        "# Calculating accuracy / score  of the model\n",
        "#float(sum(pred==Y_test))/embedding_matrix_test.shape[0]"
      ]
    },
    {
      "cell_type": "code",
      "execution_count": 28,
      "metadata": {
        "scrolled": true,
        "id": "RaJgE9wRndl0",
        "colab": {
          "base_uri": "https://localhost:8080/",
          "height": 52
        },
        "outputId": "818a2ed8-557e-43db-8e67-22a96bc81e5a"
      },
      "outputs": [
        {
          "output_type": "execute_result",
          "data": {
            "text/plain": [
              "'for i in range(embedding_matrix_test.shape[0]):\\n  if pred[i] != Y_test[i]:\\n    print(i)\\n    print (test[0][i],end=\" \")\\n    print (emoji.emojize(emoji_dict[pred[i]], use_aliases=True),end=\" \")\\n    print (emoji.emojize(emoji_dict[Y_test[i]], use_aliases=True))\\n    '"
            ],
            "application/vnd.google.colaboratory.intrinsic+json": {
              "type": "string"
            }
          },
          "metadata": {},
          "execution_count": 28
        }
      ],
      "source": [
        "# Printing the sentences with the predicted and the labelled emoji\n",
        "\"\"\"for i in range(embedding_matrix_test.shape[0]):\n",
        "  if pred[i] != Y_test[i]:\n",
        "    print(i)\n",
        "    print (test[0][i],end=\" \")\n",
        "    print (emoji.emojize(emoji_dict[pred[i]], use_aliases=True),end=\" \")\n",
        "    print (emoji.emojize(emoji_dict[Y_test[i]], use_aliases=True))\n",
        "    \"\"\""
      ]
    },
    {
      "cell_type": "code",
      "execution_count": 26,
      "metadata": {
        "id": "kaLGdrvandl1",
        "colab": {
          "base_uri": "https://localhost:8080/",
          "height": 70
        },
        "outputId": "8d7fb29b-76fc-4d2b-c592-1a6d1a7e8fe0"
      },
      "outputs": [
        {
          "output_type": "execute_result",
          "data": {
            "text/plain": [
              "'epochs = 50\\nplt.style.use(\"ggplot\")\\nplt.figure()\\nplt.plot(np.arange(0, epochs), hist.history[\"loss\"], label = \"Train Loss\")\\nplt.plot(np.arange(0, epochs), hist.history[\"accuracy\"], label = \"Train Acc\")\\n\\nplt.title(\"Loss and Accuracy plot\")\\nplt.xlabel(\"Epoch\")\\nplt.ylabel(\"Loss / Accuracy\")\\nplt.legend(loc = \"lower left\")\\nplt.savefig(\"plot.jpg\")\\n'"
            ],
            "application/vnd.google.colaboratory.intrinsic+json": {
              "type": "string"
            }
          },
          "metadata": {},
          "execution_count": 26
        }
      ],
      "source": [
        "\"\"\"\n",
        "epochs = 50\n",
        "plt.style.use(\"ggplot\")\n",
        "plt.figure()\n",
        "plt.plot(np.arange(0, epochs), hist.history[\"loss\"], label = \"Train Loss\")\n",
        "plt.plot(np.arange(0, epochs), hist.history[\"accuracy\"], label = \"Train Acc\")\n",
        "\n",
        "plt.title(\"Loss and Accuracy plot\")\n",
        "plt.xlabel(\"Epoch\")\n",
        "plt.ylabel(\"Loss / Accuracy\")\n",
        "plt.legend(loc = \"lower left\")\n",
        "plt.savefig(\"plot.jpg\")\n",
        "\"\"\""
      ]
    },
    {
      "cell_type": "code",
      "source": [
        "\n"
      ],
      "metadata": {
        "id": "xXoD-w9zfWR-"
      },
      "execution_count": 26,
      "outputs": []
    },
    {
      "cell_type": "code",
      "source": [
        "\"\"\"\n",
        "import oauth2 as oauth\n",
        "import urllib.request\n",
        "\n",
        "# See assignment1.html instructions or README for how to get these credentials\n",
        "\n",
        "api_key = \"XQeBLBfD7vZHIJ7BEHP8C84Pv\"\n",
        "api_secret = \"jCw4FY9IHaJhBo0ntLXP4Xi1fBPLuyq2y4A0zeBxsJ0mngJz4U\"\n",
        "access_token_key = \"1436156721936875520-T1I5OjMAcYeZmXBolU9Lu8nFW6DOII\"\n",
        "access_token_secret = \"ZKbWqiUiTV5zEYiSbOkMwA0mAOSpEFOE0Rr0J3k8b8rME\"\n",
        "\n",
        "_debug = 0\n",
        "\n",
        "oauth_token    = oauth.Token(key=access_token_key, secret=access_token_secret)\n",
        "oauth_consumer = oauth.Consumer(key=api_key, secret=api_secret)\n",
        "\n",
        "signature_method_hmac_sha1 = oauth.SignatureMethod_HMAC_SHA1()\n",
        "\n",
        "http_method = \"GET\"\n",
        "\n",
        "\n",
        "http_handler  = urllib.request.HTTPHandler(debuglevel=_debug)\n",
        "https_handler = urllib.request.HTTPSHandler(debuglevel=_debug)\n",
        "\n",
        "'''\n",
        "Construct, sign, and open a twitter request\n",
        "using the hard-coded credentials above.\n",
        "'''\n",
        "def twitterreq(url, method, parameters):\n",
        "  req = oauth.Request.from_consumer_and_token(oauth_consumer,\n",
        "                                             token=oauth_token,\n",
        "                                             http_method=http_method,\n",
        "                                             http_url=url, \n",
        "                                             parameters=parameters)\n",
        "\n",
        "  req.sign_request(signature_method_hmac_sha1, oauth_consumer, oauth_token)\n",
        "\n",
        "  headers = req.to_header()\n",
        "\n",
        "  if http_method == \"POST\":\n",
        "    encoded_post_data = req.to_postdata()\n",
        "  else:\n",
        "    encoded_post_data = None\n",
        "    url = req.to_url()\n",
        "\n",
        "  opener = urllib.request.OpenerDirector()\n",
        "  opener.add_handler(http_handler)\n",
        "  opener.add_handler(https_handler)\n",
        "\n",
        "  response = opener.open(url, encoded_post_data)\n",
        "\n",
        "  return response\n",
        "\n",
        "def fetchsamples():\n",
        "  url = \"https://stream.twitter.com/1/statuses/sample.json\"\n",
        "  parameters = []\n",
        "  response = twitterreq(url, \"GET\", parameters)\n",
        "  for line in response:\n",
        "    print (line.strip())\n",
        "\n",
        "if __name__ == '__main__':\n",
        "  fetchsamples()\n",
        "  \"\"\""
      ],
      "metadata": {
        "id": "C__v8vlTghs4"
      },
      "execution_count": 27,
      "outputs": []
    }
  ],
  "metadata": {
    "kernelspec": {
      "display_name": "Python 3",
      "language": "python",
      "name": "python3"
    },
    "language_info": {
      "codemirror_mode": {
        "name": "ipython",
        "version": 3
      },
      "file_extension": ".py",
      "mimetype": "text/x-python",
      "name": "python",
      "nbconvert_exporter": "python",
      "pygments_lexer": "ipython3",
      "version": "3.8.0"
    },
    "colab": {
      "name": "Emoji Prediction.ipynb",
      "provenance": [],
      "collapsed_sections": []
    }
  },
  "nbformat": 4,
  "nbformat_minor": 0
}